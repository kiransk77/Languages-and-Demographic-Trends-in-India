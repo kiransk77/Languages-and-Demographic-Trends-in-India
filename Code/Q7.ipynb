{
 "cells": [
  {
   "cell_type": "code",
   "execution_count": 1,
   "id": "a6cac745",
   "metadata": {
    "execution": {
     "iopub.execute_input": "2021-11-09T10:21:46.492580Z",
     "iopub.status.busy": "2021-11-09T10:21:46.489587Z",
     "iopub.status.idle": "2021-11-09T10:21:47.424805Z",
     "shell.execute_reply": "2021-11-09T10:21:47.423808Z"
    }
   },
   "outputs": [],
   "source": [
    "import pandas as pd\n",
    "import os\n",
    "import warnings\n",
    "warnings.filterwarnings('ignore')"
   ]
  },
  {
   "cell_type": "code",
   "execution_count": 2,
   "id": "a2383f02",
   "metadata": {
    "execution": {
     "iopub.execute_input": "2021-11-09T10:21:47.431826Z",
     "iopub.status.busy": "2021-11-09T10:21:47.430868Z",
     "iopub.status.idle": "2021-11-09T10:21:53.370490Z",
     "shell.execute_reply": "2021-11-09T10:21:53.371487Z"
    }
   },
   "outputs": [
    {
     "data": {
      "text/plain": [
       "{0: 'INDIA',\n",
       " 1: 'JAMMU & KASHMIR',\n",
       " 2: 'HIMACHAL PRADESH',\n",
       " 3: 'PUNJAB',\n",
       " 4: 'CHANDIGARH',\n",
       " 5: 'UTTARAKHAND',\n",
       " 6: 'HARYANA',\n",
       " 7: 'NCT OF DELHI',\n",
       " 8: 'RAJASTHAN',\n",
       " 9: 'UTTAR PRADESH',\n",
       " 10: 'BIHAR',\n",
       " 11: 'SIKKIM',\n",
       " 12: 'ARUNACHAL PRADESH',\n",
       " 13: 'NAGALAND',\n",
       " 14: 'MANIPUR',\n",
       " 15: 'MIZORAM',\n",
       " 16: 'TRIPURA',\n",
       " 17: 'MEGHALAYA',\n",
       " 18: 'ASSAM',\n",
       " 19: 'WEST BENGAL',\n",
       " 20: 'JHARKHAND',\n",
       " 21: 'ODISHA',\n",
       " 22: 'CHHATTISGARH',\n",
       " 23: 'MADHYA PRADESH',\n",
       " 24: 'GUJARAT',\n",
       " 25: 'DAMAN & DIU',\n",
       " 26: 'DADRA & NAGAR HAVELI',\n",
       " 27: 'MAHARASHTRA',\n",
       " 28: 'ANDHRA PRADESH',\n",
       " 29: 'KARNATAKA',\n",
       " 30: 'GOA',\n",
       " 31: 'LAKSHADWEEP',\n",
       " 32: 'KERALA',\n",
       " 33: 'TAMIL NADU',\n",
       " 34: 'PUDUCHERRY',\n",
       " 35: 'ANDAMAN & NICOBAR ISLANDS'}"
      ]
     },
     "execution_count": 1,
     "metadata": {},
     "output_type": "execute_result"
    }
   ],
   "source": [
    "#taking state code and state name mapping from c16 file\n",
    "\n",
    "c16=\"DDW-C16-STMT-MDDS-0000.XLSX\"\n",
    "df_c16=pd.read_excel(c16,skiprows=[0,1,3,4,5])\n",
    "df_c16 = df_c16[[\"State\",\"Area name\"]]\n",
    "codes= dict(zip(df_c16[\"State\"],df_c16[\"Area name\"]))\n",
    "codes"
   ]
  },
  {
   "cell_type": "code",
   "execution_count": 3,
   "id": "ca864b0d",
   "metadata": {
    "execution": {
     "iopub.execute_input": "2021-11-09T10:21:53.391909Z",
     "iopub.status.busy": "2021-11-09T10:21:53.388973Z",
     "iopub.status.idle": "2021-11-09T10:23:05.154376Z",
     "shell.execute_reply": "2021-11-09T10:23:05.151874Z"
    }
   },
   "outputs": [],
   "source": [
    "#Taking the individual state files in C17 folder, processing them for Mother tongue and MotherTongue+2ndlang+3rdLang speakers\n",
    "#append all state data to one dataframe df_c17_final\n",
    "df_c17_final=pd.DataFrame()\n",
    "\n",
    "for filename in os.listdir(\"C17\"):\n",
    "    c17=os.path.join(\"C17\",filename)\n",
    "    col_names=['State Code','State','L_Code.1','L_Name.1','Persons.1','Males.1','Females.1','L_Code.2','L_Name.2','Persons.2','Males.2','Females.2','L_Code.3','L_Name.3','Persons.3','Males.3','Females.3']\n",
    "    df_c17=pd.read_excel(c17,names=col_names,skiprows=5)\n",
    "    \n",
    "    df_L1=df_c17[['L_Code.1','L_Name.1','Persons.1']]\n",
    "    df_L2=df_c17[['L_Code.2','L_Name.2','Persons.2']]\n",
    "    df_L3=df_c17[['L_Code.3','L_Name.3','Persons.3']]\n",
    "\n",
    "    df_L1.dropna(inplace=True)\n",
    "    df_L1.reset_index(drop=True,inplace=True)\n",
    "\n",
    "    df_L2.dropna(inplace=True)\n",
    "    df_L2=df_L2.groupby(['L_Code.2','L_Name.2']).agg({'Persons.2':'sum'}).reset_index()\n",
    "\n",
    "    df_L3.dropna(inplace=True)\n",
    "    df_L3=df_L3.groupby(['L_Code.3','L_Name.3']).agg({'Persons.3':'sum'}).reset_index()\n",
    "\n",
    "    df_L = pd.merge(df_L1,df_L2, how= \"left\",left_on=['L_Code.1','L_Name.1'],right_on = ['L_Code.2','L_Name.2'])\n",
    "    df_L.drop(['L_Name.2','L_Code.2'],axis=1,inplace=True)\n",
    "    df_L=pd.merge(df_L,df_L3, how= \"left\",left_on=['L_Code.1','L_Name.1'],right_on = ['L_Code.3','L_Name.3'])\n",
    "    df_L.drop(['L_Name.3','L_Code.3'],axis=1,inplace=True)\n",
    "\n",
    "    df_L['LanguageSpeakers']=df_L['Persons.1']+df_L['Persons.2']+df_L['Persons.3']\n",
    "    df_L.rename(columns={'Persons.1':'MotherTongue','L_Code.1':'L_Code','L_Name.1':'L_Name',},inplace=True)\n",
    "    df_L.drop(['Persons.2','Persons.3'],axis=1,inplace=True)\n",
    "\n",
    "    new_col = df_c17['State Code']  \n",
    "    df_L.insert(loc=0, column='State Code', value=new_col)\n",
    "    new_col = df_c17['State'] \n",
    "    df_L.insert(loc=1, column='State', value=new_col)\n",
    "    df_c17_final=pd.concat([df_c17_final,df_L])\n",
    "df_c17_final.reset_index(drop=True,inplace=True)"
   ]
  },
  {
   "cell_type": "code",
   "execution_count": 4,
   "id": "88a5b86a",
   "metadata": {
    "execution": {
     "iopub.execute_input": "2021-11-09T10:23:05.178416Z",
     "iopub.status.busy": "2021-11-09T10:23:05.174079Z",
     "iopub.status.idle": "2021-11-09T10:23:05.185185Z",
     "shell.execute_reply": "2021-11-09T10:23:05.186188Z"
    }
   },
   "outputs": [],
   "source": [
    "\"\"\"North: JK, Ladakh, PN, HP, HR, UK, Delhi, Chandigarh \n",
    "   West: RJ, GJ, MH, Goa, Dadra & Nagar Haveli, Daman & Diu \n",
    "   Central: MP, UP, CG \n",
    "   East: BH, WB, OR, JH \n",
    "   South: KT, TG, AP, TN, KL, Lakshadweep, Puducherry \n",
    "   North-East: AS, SK, MG, TR, AR, MN, NG, MZ, Andaman & Nicobar\"\"\"\n",
    "\n",
    "\"\"\"{0: 'INDIA', 1: 'JAMMU & KASHMIR', 2: 'HIMACHAL PRADESH', 3: 'PUNJAB', 4: 'CHANDIGARH', 5: 'UTTARAKHAND', 6: 'HARYANA',\n",
    " 7: 'NCT OF DELHI',8: 'RAJASTHAN',9: 'UTTAR PRADESH',10: 'BIHAR',11: 'SIKKIM',12: 'ARUNACHAL PRADESH',13: 'NAGALAND',\n",
    " 14: 'MANIPUR',15: 'MIZORAM',16: 'TRIPURA',17: 'MEGHALAYA',18: 'ASSAM',19: 'WEST BENGAL',20: 'JHARKHAND',21: 'ODISHA',\n",
    " 22: 'CHHATTISGARH',23: 'MADHYA PRADESH',24: 'GUJARAT',25: 'DAMAN & DIU',26: 'DADRA & NAGAR HAVELI',27: 'MAHARASHTRA',\n",
    " 28: 'ANDHRA PRADESH',29: 'KARNATAKA',30: 'GOA',31: 'LAKSHADWEEP',32: 'KERALA',33: 'TAMIL NADU',34: 'PUDUCHERRY',\n",
    " 35: 'ANDAMAN & NICOBAR ISLANDS'}\"\"\"\n",
    "\n",
    "#assign State codes to regions based on above mapping\n",
    "\n",
    "north=[1,2,3,4,5,6,7]\n",
    "west=[8,24,25,26,27,30]\n",
    "central=[23,9,22]\n",
    "east=[10,19,21,20]\n",
    "south=[29,28,33,32,31,34]\n",
    "north_east=[18,11,17,16,12,14,13,15,35]\n"
   ]
  },
  {
   "cell_type": "code",
   "execution_count": 5,
   "id": "7811ef30",
   "metadata": {
    "execution": {
     "iopub.execute_input": "2021-11-09T10:23:05.211402Z",
     "iopub.status.busy": "2021-11-09T10:23:05.202366Z",
     "iopub.status.idle": "2021-11-09T10:23:05.236131Z",
     "shell.execute_reply": "2021-11-09T10:23:05.242797Z"
    }
   },
   "outputs": [],
   "source": [
    "#separate the dataframes based on State codes into regions \n",
    "df_c17_north=df_c17_final.loc[df_c17_final['State Code'].isin(north)]\n",
    "df_c17_west=df_c17_final.loc[df_c17_final['State Code'].isin(west)]\n",
    "df_c17_central=df_c17_final.loc[df_c17_final['State Code'].isin(central)]\n",
    "df_c17_east=df_c17_final.loc[df_c17_final['State Code'].isin(east)]\n",
    "df_c17_south=df_c17_final.loc[df_c17_final['State Code'].isin(south)]\n",
    "df_c17_north_east=df_c17_final.loc[df_c17_final['State Code'].isin(north_east)]"
   ]
  },
  {
   "cell_type": "code",
   "execution_count": 6,
   "id": "a8fa3839",
   "metadata": {
    "execution": {
     "iopub.execute_input": "2021-11-09T10:23:05.267478Z",
     "iopub.status.busy": "2021-11-09T10:23:05.264001Z",
     "iopub.status.idle": "2021-11-09T10:23:05.384926Z",
     "shell.execute_reply": "2021-11-09T10:23:05.385960Z"
    }
   },
   "outputs": [],
   "source": [
    "#take all dataframes in a tupple and calculate MT and Language speakers for each state.\n",
    "#Append each state data to different lists.\n",
    "dfs = (df_c17_north,df_c17_west,df_c17_central,df_c17_east,df_c17_south,df_c17_north_east)\n",
    "dfs_mt= []\n",
    "dfs_tot=[]\n",
    "for df in dfs:\n",
    "    df_test=df.groupby(\"L_Name\").agg({'MotherTongue':'sum','LanguageSpeakers':'sum'}).reset_index()\n",
    "    df_test.sort_values(by='MotherTongue',ascending=False,inplace=True,ignore_index=True)\n",
    "    mt = df_test[\"L_Name\"][:3]\n",
    "    dfs_mt.append(mt)\n",
    "    df_test.sort_values(by='LanguageSpeakers',ascending=False,inplace=True,ignore_index=True)\n",
    "    tot = df_test[\"L_Name\"][:3]\n",
    "    dfs_tot.append(tot)"
   ]
  },
  {
   "cell_type": "code",
   "execution_count": 7,
   "id": "96f723d5",
   "metadata": {
    "execution": {
     "iopub.execute_input": "2021-11-09T10:23:05.418806Z",
     "iopub.status.busy": "2021-11-09T10:23:05.417784Z",
     "iopub.status.idle": "2021-11-09T10:23:05.461305Z",
     "shell.execute_reply": "2021-11-09T10:23:05.464712Z"
    }
   },
   "outputs": [
    {
     "data": {
      "text/html": [
       "<div>\n",
       "<style scoped>\n",
       "    .dataframe tbody tr th:only-of-type {\n",
       "        vertical-align: middle;\n",
       "    }\n",
       "\n",
       "    .dataframe tbody tr th {\n",
       "        vertical-align: top;\n",
       "    }\n",
       "\n",
       "    .dataframe thead th {\n",
       "        text-align: right;\n",
       "    }\n",
       "</style>\n",
       "<table border=\"1\" class=\"dataframe\">\n",
       "  <thead>\n",
       "    <tr style=\"text-align: right;\">\n",
       "      <th></th>\n",
       "      <th>region</th>\n",
       "      <th>language-1</th>\n",
       "      <th>language-2</th>\n",
       "      <th>language-3</th>\n",
       "    </tr>\n",
       "  </thead>\n",
       "  <tbody>\n",
       "    <tr>\n",
       "      <th>0</th>\n",
       "      <td>North</td>\n",
       "      <td>HINDI</td>\n",
       "      <td>PUNJABI</td>\n",
       "      <td>KASHMIRI</td>\n",
       "    </tr>\n",
       "    <tr>\n",
       "      <th>1</th>\n",
       "      <td>West</td>\n",
       "      <td>HINDI</td>\n",
       "      <td>MARATHI</td>\n",
       "      <td>GUJARATI</td>\n",
       "    </tr>\n",
       "    <tr>\n",
       "      <th>2</th>\n",
       "      <td>Central</td>\n",
       "      <td>HINDI</td>\n",
       "      <td>URDU</td>\n",
       "      <td>BHILI/BHILODI</td>\n",
       "    </tr>\n",
       "    <tr>\n",
       "      <th>3</th>\n",
       "      <td>East</td>\n",
       "      <td>HINDI</td>\n",
       "      <td>BENGALI</td>\n",
       "      <td>ODIA</td>\n",
       "    </tr>\n",
       "    <tr>\n",
       "      <th>4</th>\n",
       "      <td>South</td>\n",
       "      <td>TELUGU</td>\n",
       "      <td>TAMIL</td>\n",
       "      <td>KANNADA</td>\n",
       "    </tr>\n",
       "    <tr>\n",
       "      <th>5</th>\n",
       "      <td>North East</td>\n",
       "      <td>ASSAMESE</td>\n",
       "      <td>BENGALI</td>\n",
       "      <td>HINDI</td>\n",
       "    </tr>\n",
       "  </tbody>\n",
       "</table>\n",
       "</div>"
      ],
      "text/plain": [
       "       region language-1 language-2      language-3\n",
       "0       North     HINDI    PUNJABI        KASHMIRI \n",
       "1        West     HINDI    MARATHI         GUJARATI\n",
       "2     Central     HINDI        URDU  BHILI/BHILODI \n",
       "3        East     HINDI    BENGALI            ODIA \n",
       "4       South    TELUGU      TAMIL          KANNADA\n",
       "5  North East   ASSAMESE   BENGALI           HINDI "
      ]
     },
     "execution_count": 1,
     "metadata": {},
     "output_type": "execute_result"
    }
   ],
   "source": [
    "#convert above mother tongue list to data frame\n",
    "final_mt= pd.DataFrame(dfs_mt)\n",
    "final_mt.columns=[\"language-1\",\"language-2\",\"language-3\"]\n",
    "new_col = [\"North\",\"West\",\"Central\",\"East\",\"South\",\"North East\"] \n",
    "final_mt.insert(loc=0, column='region', value=new_col)\n",
    "final_mt.reset_index(drop=True,inplace=True)\n",
    "final_mt"
   ]
  },
  {
   "cell_type": "code",
   "execution_count": 8,
   "id": "87ec1d30",
   "metadata": {
    "execution": {
     "iopub.execute_input": "2021-11-09T10:23:05.519665Z",
     "iopub.status.busy": "2021-11-09T10:23:05.516542Z",
     "iopub.status.idle": "2021-11-09T10:23:05.535982Z",
     "shell.execute_reply": "2021-11-09T10:23:05.535982Z"
    }
   },
   "outputs": [
    {
     "data": {
      "text/html": [
       "<div>\n",
       "<style scoped>\n",
       "    .dataframe tbody tr th:only-of-type {\n",
       "        vertical-align: middle;\n",
       "    }\n",
       "\n",
       "    .dataframe tbody tr th {\n",
       "        vertical-align: top;\n",
       "    }\n",
       "\n",
       "    .dataframe thead th {\n",
       "        text-align: right;\n",
       "    }\n",
       "</style>\n",
       "<table border=\"1\" class=\"dataframe\">\n",
       "  <thead>\n",
       "    <tr style=\"text-align: right;\">\n",
       "      <th></th>\n",
       "      <th>region</th>\n",
       "      <th>language-1</th>\n",
       "      <th>language-2</th>\n",
       "      <th>language-3</th>\n",
       "    </tr>\n",
       "  </thead>\n",
       "  <tbody>\n",
       "    <tr>\n",
       "      <th>0</th>\n",
       "      <td>North</td>\n",
       "      <td>HINDI</td>\n",
       "      <td>PUNJABI</td>\n",
       "      <td>ENGLISH</td>\n",
       "    </tr>\n",
       "    <tr>\n",
       "      <th>1</th>\n",
       "      <td>West</td>\n",
       "      <td>HINDI</td>\n",
       "      <td>MARATHI</td>\n",
       "      <td>GUJARATI</td>\n",
       "    </tr>\n",
       "    <tr>\n",
       "      <th>2</th>\n",
       "      <td>Central</td>\n",
       "      <td>HINDI</td>\n",
       "      <td>ENGLISH</td>\n",
       "      <td>URDU</td>\n",
       "    </tr>\n",
       "    <tr>\n",
       "      <th>3</th>\n",
       "      <td>East</td>\n",
       "      <td>HINDI</td>\n",
       "      <td>BENGALI</td>\n",
       "      <td>ODIA</td>\n",
       "    </tr>\n",
       "    <tr>\n",
       "      <th>4</th>\n",
       "      <td>South</td>\n",
       "      <td>TELUGU</td>\n",
       "      <td>TAMIL</td>\n",
       "      <td>KANNADA</td>\n",
       "    </tr>\n",
       "    <tr>\n",
       "      <th>5</th>\n",
       "      <td>North East</td>\n",
       "      <td>ASSAMESE</td>\n",
       "      <td>BENGALI</td>\n",
       "      <td>HINDI</td>\n",
       "    </tr>\n",
       "  </tbody>\n",
       "</table>\n",
       "</div>"
      ],
      "text/plain": [
       "       region language-1 language-2 language-3\n",
       "0       North     HINDI    PUNJABI    ENGLISH \n",
       "1        West     HINDI    MARATHI    GUJARATI\n",
       "2     Central     HINDI    ENGLISH        URDU\n",
       "3        East     HINDI    BENGALI       ODIA \n",
       "4       South    TELUGU      TAMIL     KANNADA\n",
       "5  North East   ASSAMESE   BENGALI      HINDI "
      ]
     },
     "execution_count": 1,
     "metadata": {},
     "output_type": "execute_result"
    }
   ],
   "source": [
    "#convert above total language speakers list to data frames \n",
    "final_tot=pd.DataFrame(dfs_tot)\n",
    "final_tot.columns=[\"language-1\",\"language-2\",\"language-3\"]\n",
    "new_col = [\"North\",\"West\",\"Central\",\"East\",\"South\",\"North East\"] \n",
    "final_tot.insert(loc=0, column='region', value=new_col)\n",
    "final_tot.reset_index(drop=True,inplace=True)\n",
    "final_tot"
   ]
  },
  {
   "cell_type": "code",
   "execution_count": 9,
   "id": "f8363372",
   "metadata": {
    "execution": {
     "iopub.execute_input": "2021-11-09T10:23:05.563228Z",
     "iopub.status.busy": "2021-11-09T10:23:05.560612Z",
     "iopub.status.idle": "2021-11-09T10:23:05.635138Z",
     "shell.execute_reply": "2021-11-09T10:23:05.635138Z"
    }
   },
   "outputs": [],
   "source": [
    "#load to csv\n",
    "outname_1 = 'region-india-a.csv'\n",
    "outname_2 = 'region-india-b.csv'\n",
    "outfiles = './Output_Files'\n",
    "if not os.path.exists(outfiles):\n",
    "    os.mkdir(outfiles)\n",
    "outdir=outfiles+'/Q7'\n",
    "if not os.path.exists(outdir):\n",
    "    os.mkdir(outdir)\n",
    "filepath_1 = os.path.join(outdir, outname_1)  \n",
    "filepath_2 = os.path.join(outdir, outname_2)\n",
    "\n",
    "final_mt.to_csv(filepath_1,index=False)\n",
    "final_tot.to_csv(filepath_2,index=False)"
   ]
  }
 ],
 "metadata": {
  "kernelspec": {
   "display_name": "Python 3",
   "language": "python",
   "name": "python3"
  },
  "language_info": {
   "codemirror_mode": {
    "name": "ipython",
    "version": 3
   },
   "file_extension": ".py",
   "mimetype": "text/x-python",
   "name": "python",
   "nbconvert_exporter": "python",
   "pygments_lexer": "ipython3",
   "version": "3.8.8"
  }
 },
 "nbformat": 4,
 "nbformat_minor": 5
}
