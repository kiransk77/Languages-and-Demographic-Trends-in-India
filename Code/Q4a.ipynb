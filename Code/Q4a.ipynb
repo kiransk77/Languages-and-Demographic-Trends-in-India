{
 "cells": [
  {
   "cell_type": "code",
   "execution_count": 1,
   "id": "a6cac745",
   "metadata": {
    "execution": {
     "iopub.execute_input": "2021-11-09T09:41:50.267815Z",
     "iopub.status.busy": "2021-11-09T09:41:50.264309Z",
     "iopub.status.idle": "2021-11-09T09:41:52.700279Z",
     "shell.execute_reply": "2021-11-09T09:41:52.695037Z"
    }
   },
   "outputs": [],
   "source": [
    "import pandas as pd\n",
    "import os\n",
    "import warnings\n",
    "warnings.filterwarnings('ignore')"
   ]
  },
  {
   "cell_type": "code",
   "execution_count": 2,
   "id": "78ab7cbe",
   "metadata": {
    "execution": {
     "iopub.execute_input": "2021-11-09T09:41:52.718854Z",
     "iopub.status.busy": "2021-11-09T09:41:52.714209Z",
     "iopub.status.idle": "2021-11-09T09:42:02.642647Z",
     "shell.execute_reply": "2021-11-09T09:42:02.642647Z"
    }
   },
   "outputs": [],
   "source": [
    "#census loading \n",
    "\n",
    "census_2011 =\"Census2011data.xlsx\"\n",
    "df_census=pd.read_excel(census_2011,usecols= [\"Level\",\"Name\",\"TRU\",\"TOT_P\"])"
   ]
  },
  {
   "cell_type": "code",
   "execution_count": 3,
   "id": "1a9db976",
   "metadata": {
    "execution": {
     "iopub.execute_input": "2021-11-09T09:42:02.663437Z",
     "iopub.status.busy": "2021-11-09T09:42:02.651820Z",
     "iopub.status.idle": "2021-11-09T09:42:02.683528Z",
     "shell.execute_reply": "2021-11-09T09:42:02.683528Z"
    }
   },
   "outputs": [],
   "source": [
    "#census preprocessing\n",
    "df_census=df_census[df_census[\"TRU\"]==\"Total\"]\n",
    "df_census =df_census[df_census[\"Level\"] != \"DISTRICT\"]\n",
    "df_census = df_census[[\"Name\",\"TOT_P\"]]\n",
    "df_census['Name']=df_census['Name'].str.upper()"
   ]
  },
  {
   "cell_type": "code",
   "execution_count": 4,
   "id": "8841496d",
   "metadata": {
    "execution": {
     "iopub.execute_input": "2021-11-09T09:42:02.692605Z",
     "iopub.status.busy": "2021-11-09T09:42:02.692605Z",
     "iopub.status.idle": "2021-11-09T09:42:03.444595Z",
     "shell.execute_reply": "2021-11-09T09:42:03.449763Z"
    }
   },
   "outputs": [],
   "source": [
    "#load c18\n",
    "c18=\"DDW-C18-0000.xlsx\"\n",
    "df_c18=pd.read_excel(c18,skiprows=[0,4,5])\n",
    "\n",
    "#c18 preprocessing\n",
    "df_c18=df_c18[[\"Area Name\",\"Total/\",\"Age-group\",\"Number speaking second language\",\"Number speaking third language\"]]\n",
    "df_c18=df_c18[df_c18[\"Age-group\"]==\"Total\"]\n",
    "df_c18=df_c18[df_c18[\"Total/\"]==\"Total\"]\n",
    "df_c18 = df_c18.rename(columns = {'Area Name':'Name'})\n",
    "df_c18=df_c18[[\"Name\",\"Number speaking second language\",\"Number speaking third language\"]]\n"
   ]
  },
  {
   "cell_type": "code",
   "execution_count": 5,
   "id": "cf791aef",
   "metadata": {
    "execution": {
     "iopub.execute_input": "2021-11-09T09:42:03.473375Z",
     "iopub.status.busy": "2021-11-09T09:42:03.473375Z",
     "iopub.status.idle": "2021-11-09T09:42:03.544384Z",
     "shell.execute_reply": "2021-11-09T09:42:03.544384Z"
    }
   },
   "outputs": [],
   "source": [
    "#merge c18 and census data\n",
    "df_merge = pd.merge(df_census,df_c18,how='inner',left_on='Name',right_on = 'Name')\n",
    "\n",
    "#calculate one lang,two lang, three lang speakers\n",
    "df_merge[\"Only one language\"] = df_merge[\"TOT_P\"]-df_merge[\"Number speaking second language\"]\n",
    "df_merge[\"exactly two languages\"] = df_merge[\"Number speaking second language\"] - df_merge[\"Number speaking third language\"]\n",
    "df_merge[\"Three languages or more\"] = df_merge[\"Number speaking third language\"]\n",
    "\n",
    "#find the 3 to 2 and 2 to 1 lang speakers ratio\n",
    "df_merge[\"3-to-2-ratio\"]=df_merge[\"Three languages or more\"].astype(float) /df_merge[\"exactly two languages\"].astype(float)\n",
    "df_merge[\"2-to-1-ratio\"]=df_merge[\"exactly two languages\"].astype(float) /df_merge[\"Only one language\"].astype(float)\n",
    "\n",
    "df_merge=df_merge[df_merge[\"Name\"]!=\"INDIA\"]"
   ]
  },
  {
   "cell_type": "code",
   "execution_count": 6,
   "id": "666e271f",
   "metadata": {
    "execution": {
     "iopub.execute_input": "2021-11-09T09:42:03.572974Z",
     "iopub.status.busy": "2021-11-09T09:42:03.570979Z",
     "iopub.status.idle": "2021-11-09T09:42:03.590145Z",
     "shell.execute_reply": "2021-11-09T09:42:03.591093Z"
    }
   },
   "outputs": [],
   "source": [
    "#sort by 3 to 2 ratio\n",
    "df_3_to_2=df_merge[[\"Name\",\"3-to-2-ratio\"]]\n",
    "df_3_to_2.sort_values(by=\"3-to-2-ratio\",ascending=False,inplace=True)\n",
    "#sort by 2 to 1 ratio\n",
    "df_2_to_1=df_merge[[\"Name\",\"2-to-1-ratio\"]]\n",
    "df_2_to_1.sort_values(by=\"2-to-1-ratio\",ascending=False,inplace=True)"
   ]
  },
  {
   "cell_type": "code",
   "execution_count": 7,
   "id": "ea40b257",
   "metadata": {
    "execution": {
     "iopub.execute_input": "2021-11-09T09:42:03.602417Z",
     "iopub.status.busy": "2021-11-09T09:42:03.602417Z",
     "iopub.status.idle": "2021-11-09T09:42:03.637436Z",
     "shell.execute_reply": "2021-11-09T09:42:03.639429Z"
    }
   },
   "outputs": [
    {
     "name": "stdout",
     "output_type": "stream",
     "text": [
      "          Name  3-to-2-ratio\n",
      "30         GOA      1.925807\n",
      "3       PUNJAB      1.504216\n",
      "4   CHANDIGARH      1.248266\n",
      "             Name  3-to-2-ratio\n",
      "10          BIHAR      0.111582\n",
      "5     UTTARAKHAND      0.119637\n",
      "9   UTTAR PRADESH      0.127448\n"
     ]
    }
   ],
   "source": [
    "print(df_3_to_2[0:3])\n",
    "print(df_3_to_2[-3:].sort_values(by=\"3-to-2-ratio\",ascending=True))"
   ]
  },
  {
   "cell_type": "code",
   "execution_count": 8,
   "id": "02b7cb78",
   "metadata": {
    "execution": {
     "iopub.execute_input": "2021-11-09T09:42:03.663591Z",
     "iopub.status.busy": "2021-11-09T09:42:03.661599Z",
     "iopub.status.idle": "2021-11-09T09:42:03.674605Z",
     "shell.execute_reply": "2021-11-09T09:42:03.676601Z"
    }
   },
   "outputs": [],
   "source": [
    "df_3_to_2=pd.concat([df_3_to_2[0:3],df_3_to_2[-3:].sort_values(by=\"3-to-2-ratio\",ascending=True)])\n",
    "df_2_to_1=pd.concat([df_2_to_1[0:3],df_2_to_1[-3:].sort_values(by=\"2-to-1-ratio\",ascending=True)])"
   ]
  },
  {
   "cell_type": "code",
   "execution_count": 9,
   "id": "861b2dc0",
   "metadata": {
    "execution": {
     "iopub.execute_input": "2021-11-09T09:42:03.695634Z",
     "iopub.status.busy": "2021-11-09T09:42:03.693597Z",
     "iopub.status.idle": "2021-11-09T09:42:03.708620Z",
     "shell.execute_reply": "2021-11-09T09:42:03.709618Z"
    }
   },
   "outputs": [
    {
     "name": "stdout",
     "output_type": "stream",
     "text": [
      "             Name  3-to-2-ratio\n",
      "30            GOA      1.925807\n",
      "3          PUNJAB      1.504216\n",
      "4      CHANDIGARH      1.248266\n",
      "10          BIHAR      0.111582\n",
      "5     UTTARAKHAND      0.119637\n",
      "9   UTTAR PRADESH      0.127448\n"
     ]
    }
   ],
   "source": [
    "print(df_3_to_2)"
   ]
  },
  {
   "cell_type": "code",
   "execution_count": 10,
   "id": "cf7dc09e",
   "metadata": {
    "execution": {
     "iopub.execute_input": "2021-11-09T09:42:03.734400Z",
     "iopub.status.busy": "2021-11-09T09:42:03.734400Z",
     "iopub.status.idle": "2021-11-09T09:42:03.750322Z",
     "shell.execute_reply": "2021-11-09T09:42:03.751200Z"
    }
   },
   "outputs": [],
   "source": [
    "df_3_to_2.reset_index(inplace=True)\n",
    "df_3_to_2.drop(['Name'],axis=1,inplace=True)\n",
    "df_3_to_2.columns=['state/ut','3-to-2-ratio']\n",
    "\n",
    "df_2_to_1.reset_index(inplace=True)\n",
    "df_2_to_1.drop(['Name'],axis=1,inplace=True)\n",
    "df_2_to_1.columns=['state/ut','2-to-1-ratio']\n"
   ]
  },
  {
   "cell_type": "code",
   "execution_count": 11,
   "id": "97093fae",
   "metadata": {
    "execution": {
     "iopub.execute_input": "2021-11-09T09:42:03.763893Z",
     "iopub.status.busy": "2021-11-09T09:42:03.763893Z",
     "iopub.status.idle": "2021-11-09T09:42:03.810406Z",
     "shell.execute_reply": "2021-11-09T09:42:03.804069Z"
    }
   },
   "outputs": [],
   "source": [
    "#load 3 to 2 ratio to csv \n",
    "\n",
    "outname_3_to_2 = '3-to-2-ratio.csv'\n",
    "#outname_2_to_1 = '2-to-1-ratio.csv'\n",
    "outfiles = './Output_Files'\n",
    "if not os.path.exists(outfiles):\n",
    "    os.mkdir(outfiles)\n",
    "outdir=outfiles+'/Q4'\n",
    "if not os.path.exists(outdir):\n",
    "    os.mkdir(outdir)\n",
    "filepath1 = os.path.join(outdir, outname_3_to_2)  \n",
    "#filepath2 = os.path.join(outdir, outname_2_to_1)  \n",
    "\n",
    "df_3_to_2.to_csv(filepath1,index=False)\n",
    "#df_2_to_1.to_csv(filepath2,index=False)"
   ]
  }
 ],
 "metadata": {
  "kernelspec": {
   "display_name": "Python 3",
   "language": "python",
   "name": "python3"
  },
  "language_info": {
   "codemirror_mode": {
    "name": "ipython",
    "version": 3
   },
   "file_extension": ".py",
   "mimetype": "text/x-python",
   "name": "python",
   "nbconvert_exporter": "python",
   "pygments_lexer": "ipython3",
   "version": "3.8.8"
  }
 },
 "nbformat": 4,
 "nbformat_minor": 5
}
