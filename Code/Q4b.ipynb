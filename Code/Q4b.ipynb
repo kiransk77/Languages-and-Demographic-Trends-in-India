{
 "cells": [
  {
   "cell_type": "code",
   "execution_count": 1,
   "id": "a6cac745",
   "metadata": {
    "execution": {
     "iopub.execute_input": "2021-11-09T09:36:55.957385Z",
     "iopub.status.busy": "2021-11-09T09:36:55.952208Z",
     "iopub.status.idle": "2021-11-09T09:36:57.389626Z",
     "shell.execute_reply": "2021-11-09T09:36:57.389626Z"
    }
   },
   "outputs": [],
   "source": [
    "import pandas as pd\n",
    "import os\n",
    "import warnings\n",
    "warnings.filterwarnings('ignore')"
   ]
  },
  {
   "cell_type": "code",
   "execution_count": 2,
   "id": "78ab7cbe",
   "metadata": {
    "execution": {
     "iopub.execute_input": "2021-11-09T09:36:57.404090Z",
     "iopub.status.busy": "2021-11-09T09:36:57.401055Z",
     "iopub.status.idle": "2021-11-09T09:37:04.834496Z",
     "shell.execute_reply": "2021-11-09T09:37:04.834496Z"
    }
   },
   "outputs": [],
   "source": [
    "#laod census\n",
    "census_2011 =\"Census2011data.xlsx\"\n",
    "df_census=pd.read_excel(census_2011,usecols= [\"Level\",\"Name\",\"TRU\",\"TOT_P\"])"
   ]
  },
  {
   "cell_type": "code",
   "execution_count": 3,
   "id": "1a9db976",
   "metadata": {
    "execution": {
     "iopub.execute_input": "2021-11-09T09:37:04.876950Z",
     "iopub.status.busy": "2021-11-09T09:37:04.862686Z",
     "iopub.status.idle": "2021-11-09T09:37:04.888793Z",
     "shell.execute_reply": "2021-11-09T09:37:04.888793Z"
    }
   },
   "outputs": [],
   "source": [
    "#census preprocessing\n",
    "df_census=df_census[df_census[\"TRU\"]==\"Total\"]\n",
    "df_census =df_census[df_census[\"Level\"] != \"DISTRICT\"]\n",
    "df_census = df_census[[\"Name\",\"TOT_P\"]]\n",
    "df_census['Name']=df_census['Name'].str.upper()"
   ]
  },
  {
   "cell_type": "code",
   "execution_count": 4,
   "id": "8841496d",
   "metadata": {
    "execution": {
     "iopub.execute_input": "2021-11-09T09:37:04.908906Z",
     "iopub.status.busy": "2021-11-09T09:37:04.905916Z",
     "iopub.status.idle": "2021-11-09T09:37:05.470869Z",
     "shell.execute_reply": "2021-11-09T09:37:05.472862Z"
    }
   },
   "outputs": [],
   "source": [
    "#load c18\n",
    "c18=\"DDW-C18-0000.xlsx\"\n",
    "df_c18=pd.read_excel(c18,skiprows=[0,4,5])\n",
    "\n",
    "#c18 preprocessing\n",
    "df_c18=df_c18[[\"Area Name\",\"Total/\",\"Age-group\",\"Number speaking second language\",\"Number speaking third language\"]]\n",
    "df_c18=df_c18[df_c18[\"Age-group\"]==\"Total\"]\n",
    "df_c18=df_c18[df_c18[\"Total/\"]==\"Total\"]\n",
    "df_c18 = df_c18.rename(columns = {'Area Name':'Name'})\n",
    "df_c18=df_c18[[\"Name\",\"Number speaking second language\",\"Number speaking third language\"]]\n"
   ]
  },
  {
   "cell_type": "code",
   "execution_count": 5,
   "id": "cf791aef",
   "metadata": {
    "execution": {
     "iopub.execute_input": "2021-11-09T09:37:05.494849Z",
     "iopub.status.busy": "2021-11-09T09:37:05.494000Z",
     "iopub.status.idle": "2021-11-09T09:37:05.523205Z",
     "shell.execute_reply": "2021-11-09T09:37:05.523205Z"
    }
   },
   "outputs": [],
   "source": [
    "#merge census and c18\n",
    "df_merge = pd.merge(df_census,df_c18,how='inner',left_on='Name',right_on = 'Name')\n",
    "\n",
    "#calculate one lang,two lang, three lang speakers\n",
    "df_merge[\"Only one language\"] = df_merge[\"TOT_P\"]-df_merge[\"Number speaking second language\"]\n",
    "df_merge[\"exactly two languages\"] = df_merge[\"Number speaking second language\"] - df_merge[\"Number speaking third language\"]\n",
    "df_merge[\"Three languages or more\"] = df_merge[\"Number speaking third language\"]\n",
    "\n",
    "\n",
    "#find the 3 to 2 and 2 to 1 lang speakers ratio \n",
    "df_merge[\"3-to-2-ratio\"]=df_merge[\"Three languages or more\"].astype(float) /df_merge[\"exactly two languages\"].astype(float)\n",
    "df_merge[\"2-to-1-ratio\"]=df_merge[\"exactly two languages\"].astype(float) /df_merge[\"Only one language\"].astype(float)\n",
    "\n",
    "df_merge=df_merge[df_merge[\"Name\"]!=\"INDIA\"]"
   ]
  },
  {
   "cell_type": "code",
   "execution_count": 6,
   "id": "666e271f",
   "metadata": {
    "execution": {
     "iopub.execute_input": "2021-11-09T09:37:05.536204Z",
     "iopub.status.busy": "2021-11-09T09:37:05.535196Z",
     "iopub.status.idle": "2021-11-09T09:37:05.546872Z",
     "shell.execute_reply": "2021-11-09T09:37:05.547869Z"
    }
   },
   "outputs": [],
   "source": [
    "#sort by 3 to 2 ratio\n",
    "df_3_to_2=df_merge[[\"Name\",\"3-to-2-ratio\"]]\n",
    "df_3_to_2.sort_values(by=\"3-to-2-ratio\",ascending=False,inplace=True)\n",
    "#sort by 2 to 1 ratio\n",
    "df_2_to_1=df_merge[[\"Name\",\"2-to-1-ratio\"]]\n",
    "df_2_to_1.sort_values(by=\"2-to-1-ratio\",ascending=False,inplace=True)"
   ]
  },
  {
   "cell_type": "code",
   "execution_count": 7,
   "id": "02b7cb78",
   "metadata": {
    "execution": {
     "iopub.execute_input": "2021-11-09T09:37:05.565417Z",
     "iopub.status.busy": "2021-11-09T09:37:05.563406Z",
     "iopub.status.idle": "2021-11-09T09:37:05.570392Z",
     "shell.execute_reply": "2021-11-09T09:37:05.571345Z"
    }
   },
   "outputs": [],
   "source": [
    "df_3_to_2=pd.concat([df_3_to_2[0:3],df_3_to_2[-3:].sort_values(by=\"3-to-2-ratio\",ascending=True)])\n",
    "df_2_to_1=pd.concat([df_2_to_1[0:3],df_2_to_1[-3:].sort_values(by=\"2-to-1-ratio\",ascending=True)])"
   ]
  },
  {
   "cell_type": "code",
   "execution_count": 8,
   "id": "861b2dc0",
   "metadata": {
    "execution": {
     "iopub.execute_input": "2021-11-09T09:37:05.573378Z",
     "iopub.status.busy": "2021-11-09T09:37:05.573378Z",
     "iopub.status.idle": "2021-11-09T09:37:05.605173Z",
     "shell.execute_reply": "2021-11-09T09:37:05.605173Z"
    }
   },
   "outputs": [
    {
     "name": "stdout",
     "output_type": "stream",
     "text": [
      "                         Name  2-to-1-ratio\n",
      "35  ANDAMAN & NICOBAR ISLANDS      1.499862\n",
      "30                        GOA      1.157976\n",
      "12          ARUNACHAL PRADESH      0.938953\n",
      "8                   RAJASTHAN      0.105877\n",
      "9               UTTAR PRADESH      0.114661\n",
      "22               CHHATTISGARH      0.133643\n"
     ]
    }
   ],
   "source": [
    "#print(df_3_to_2)\n",
    "print(df_2_to_1)"
   ]
  },
  {
   "cell_type": "code",
   "execution_count": 9,
   "id": "cf7dc09e",
   "metadata": {
    "execution": {
     "iopub.execute_input": "2021-11-09T09:37:05.655377Z",
     "iopub.status.busy": "2021-11-09T09:37:05.652374Z",
     "iopub.status.idle": "2021-11-09T09:37:05.684583Z",
     "shell.execute_reply": "2021-11-09T09:37:05.684583Z"
    }
   },
   "outputs": [
    {
     "data": {
      "text/html": [
       "<div>\n",
       "<style scoped>\n",
       "    .dataframe tbody tr th:only-of-type {\n",
       "        vertical-align: middle;\n",
       "    }\n",
       "\n",
       "    .dataframe tbody tr th {\n",
       "        vertical-align: top;\n",
       "    }\n",
       "\n",
       "    .dataframe thead th {\n",
       "        text-align: right;\n",
       "    }\n",
       "</style>\n",
       "<table border=\"1\" class=\"dataframe\">\n",
       "  <thead>\n",
       "    <tr style=\"text-align: right;\">\n",
       "      <th></th>\n",
       "      <th>state/ut</th>\n",
       "      <th>2-to-1-ratio</th>\n",
       "    </tr>\n",
       "  </thead>\n",
       "  <tbody>\n",
       "    <tr>\n",
       "      <th>0</th>\n",
       "      <td>35</td>\n",
       "      <td>1.499862</td>\n",
       "    </tr>\n",
       "    <tr>\n",
       "      <th>1</th>\n",
       "      <td>30</td>\n",
       "      <td>1.157976</td>\n",
       "    </tr>\n",
       "    <tr>\n",
       "      <th>2</th>\n",
       "      <td>12</td>\n",
       "      <td>0.938953</td>\n",
       "    </tr>\n",
       "    <tr>\n",
       "      <th>3</th>\n",
       "      <td>8</td>\n",
       "      <td>0.105877</td>\n",
       "    </tr>\n",
       "    <tr>\n",
       "      <th>4</th>\n",
       "      <td>9</td>\n",
       "      <td>0.114661</td>\n",
       "    </tr>\n",
       "    <tr>\n",
       "      <th>5</th>\n",
       "      <td>22</td>\n",
       "      <td>0.133643</td>\n",
       "    </tr>\n",
       "  </tbody>\n",
       "</table>\n",
       "</div>"
      ],
      "text/plain": [
       "   state/ut  2-to-1-ratio\n",
       "0        35      1.499862\n",
       "1        30      1.157976\n",
       "2        12      0.938953\n",
       "3         8      0.105877\n",
       "4         9      0.114661\n",
       "5        22      0.133643"
      ]
     },
     "execution_count": 1,
     "metadata": {},
     "output_type": "execute_result"
    }
   ],
   "source": [
    "df_3_to_2.reset_index(inplace=True)\n",
    "df_3_to_2.drop(['Name'],axis=1,inplace=True)\n",
    "df_3_to_2.columns=['state/ut','3-to-2-ratio']\n",
    "\n",
    "df_2_to_1.reset_index(inplace=True)\n",
    "df_2_to_1.drop(['Name'],axis=1,inplace=True)\n",
    "df_2_to_1.columns=['state/ut','2-to-1-ratio']\n",
    "df_2_to_1"
   ]
  },
  {
   "cell_type": "code",
   "execution_count": 10,
   "id": "97093fae",
   "metadata": {
    "execution": {
     "iopub.execute_input": "2021-11-09T09:37:05.703604Z",
     "iopub.status.busy": "2021-11-09T09:37:05.700508Z",
     "iopub.status.idle": "2021-11-09T09:37:05.729289Z",
     "shell.execute_reply": "2021-11-09T09:37:05.731286Z"
    }
   },
   "outputs": [],
   "source": [
    "#load 2 to 1 ratio to csv\n",
    "\n",
    "#outname_3_to_2 = '3-to-2-ratio.csv'\n",
    "outname_2_to_1 = '2-to-1-ratio.csv'\n",
    "outfiles = './Output_Files'\n",
    "if not os.path.exists(outfiles):\n",
    "    os.mkdir(outfiles)\n",
    "outdir=outfiles+'/Q4'\n",
    "if not os.path.exists(outdir):\n",
    "    os.mkdir(outdir)\n",
    "#filepath1 = os.path.join(outdir, outname_3_to_2)  \n",
    "filepath2 = os.path.join(outdir, outname_2_to_1)  \n",
    "\n",
    "#df_3_to_2.to_csv(filepath1,index=False)\n",
    "df_2_to_1.to_csv(filepath2,index=False)"
   ]
  }
 ],
 "metadata": {
  "kernelspec": {
   "display_name": "Python 3",
   "language": "python",
   "name": "python3"
  },
  "language_info": {
   "codemirror_mode": {
    "name": "ipython",
    "version": 3
   },
   "file_extension": ".py",
   "mimetype": "text/x-python",
   "name": "python",
   "nbconvert_exporter": "python",
   "pygments_lexer": "ipython3",
   "version": "3.8.8"
  }
 },
 "nbformat": 4,
 "nbformat_minor": 5
}
